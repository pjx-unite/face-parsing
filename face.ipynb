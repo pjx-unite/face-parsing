{
 "cells": [
  {
   "cell_type": "code",
   "execution_count": null,
   "id": "initial_id",
   "metadata": {
    "collapsed": true
   },
   "outputs": [],
   "source": [
    ""
   ]
  },
  {
   "metadata": {},
   "cell_type": "code",
   "outputs": [],
   "execution_count": null,
   "source": [
    "import cv2\n",
    "\n",
    "def detect_multiple_faces(image_path):\n",
    "    # Load the pre-trained Haar Cascade Classifier for face detection\n",
    "    face_cascade = cv2.CascadeClassifier(cv2.data.haarcascades + 'haarcascade_frontalface_default.xml')\n",
    "\n",
    "    # Load the image\n",
    "    image = cv2.imread(image_path)\n",
    "\n",
    "    if image is None:\n",
    "        raise ValueError(\"The provided image path is invalid or the file does not exist.\")\n",
    "\n",
    "    # Convert the image to grayscale (Haar cascades work with grayscale images)\n",
    "    gray_image = cv2.cvtColor(image, cv2.COLOR_BGR2GRAY)\n",
    "\n",
    "    # Detect faces in the image\n",
    "    faces = face_cascade.detectMultiScale(gray_image, scaleFactor=1.1, minNeighbors=5, minSize=(30, 30))\n",
    "\n",
    "    if len(faces) > 1:\n",
    "        print(f\"Multiple faces detected: {len(faces)} faces found.\")\n",
    "    elif len(faces) == 1:\n",
    "        print(\"Single face detected.\")\n",
    "    else:\n",
    "        print(\"No faces detected.\")\n",
    "\n",
    "    # Draw rectangles around detected faces\n",
    "    for (x, y, w, h) in faces:\n",
    "        cv2.rectangle(image, (x, y), (x + w, y + h), (255, 0, 0), 2)\n",
    "\n",
    "    # Show the image with detected faces\n",
    "    cv2.imshow(\"Detected Faces\", image)\n",
    "    cv2.waitKey(0)\n",
    "    cv2.destroyAllWindows()\n",
    "\n",
    "# Provide the path to your image\n",
    "image_file = 'path_to_image.jpg'  # Replace with the actual image path\n",
    "detect_multiple_faces(image_file)"
   ],
   "id": "a004fe829e0081b0"
  },
  {
   "metadata": {},
   "cell_type": "code",
   "outputs": [],
   "execution_count": null,
   "source": "",
   "id": "97d6ecc60be0e7e7"
  },
  {
   "metadata": {
    "ExecuteTime": {
     "end_time": "2025-05-25T09:23:37.733834Z",
     "start_time": "2025-05-25T09:23:37.512932Z"
    }
   },
   "cell_type": "code",
   "source": [
    "import cv2\n",
    "import numpy as np\n",
    "\n",
    "def calculate_mse(image1, image2):\n",
    "    \"\"\"\n",
    "    Calculate Mean Squared Error (MSE) between two images.\n",
    "\n",
    "    :param image1: Input image 1 (numpy array)\n",
    "    :param image2: Input image 2 (numpy array)\n",
    "    :return: MSE value (float)\n",
    "    \"\"\"\n",
    "    # Ensure images are of the same dimensions\n",
    "    if image1.shape != image2.shape:\n",
    "        raise ValueError(\"Input images must have the same dimensions.\")\n",
    "\n",
    "    # Flatten the images to one-dimensional arrays\n",
    "    diff = image1.astype(\"float\") - image2.astype(\"float\")\n",
    "    squared_diff = np.square(diff)\n",
    "    mse = np.mean(squared_diff)\n",
    "    return mse\n",
    "\n",
    "\n",
    "# Example usage:\n",
    "# Read the two face images\n",
    "original_image = cv2.imread(\"./datasets/img_003_part24-43_group_081.png\")  # Replace with actual image path\n",
    "modified_image = cv2.imread(\"./datasets/1000025970.jpg\")  # Replace with actual image path\n",
    "\n",
    "# Ensure both images are resized to the same dimension\n",
    "# Using the dimensions of the original_image\n",
    "height, width = original_image.shape[:2]\n",
    "modified_image = cv2.resize(modified_image, (width, height))\n",
    "# Save the modified image to a file\n",
    "cv2.imwrite(\"modified_image_output.jpg\", modified_image)\n",
    "\n",
    "# Convert images to the same color space (gray or RGB, if needed)\n",
    "original_image = cv2.cvtColor(original_image, cv2.COLOR_BGR2RGB)\n",
    "modified_image = cv2.cvtColor(modified_image, cv2.COLOR_BGR2RGB)\n",
    "\n",
    "# Calculate the MSE\n",
    "mse_value = calculate_mse(original_image, modified_image)\n",
    "print(f\"Pixel-wise MSE between the images: {mse_value:.4f}\")"
   ],
   "id": "3aecec72b91df456",
   "outputs": [
    {
     "name": "stdout",
     "output_type": "stream",
     "text": [
      "Pixel-wise MSE between the images: 15.7169\n"
     ]
    }
   ],
   "execution_count": 12
  }
 ],
 "metadata": {
  "kernelspec": {
   "display_name": "Python 3",
   "language": "python",
   "name": "python3"
  },
  "language_info": {
   "codemirror_mode": {
    "name": "ipython",
    "version": 2
   },
   "file_extension": ".py",
   "mimetype": "text/x-python",
   "name": "python",
   "nbconvert_exporter": "python",
   "pygments_lexer": "ipython2",
   "version": "2.7.6"
  }
 },
 "nbformat": 4,
 "nbformat_minor": 5
}
